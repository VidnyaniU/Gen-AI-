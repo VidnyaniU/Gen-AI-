{
 "cells": [
  {
   "cell_type": "code",
   "execution_count": null,
   "id": "9243d7b6",
   "metadata": {},
   "outputs": [],
   "source": [
    "from google import genai\n",
    "from google.colab  import userdata\n",
    "\n",
    "client = genai.CLient(api_key = userdata.get(\"GOOGLE_API_KEY\"))"
   ]
  }
 ],
 "metadata": {
  "language_info": {
   "name": "python"
  }
 },
 "nbformat": 4,
 "nbformat_minor": 5
}
